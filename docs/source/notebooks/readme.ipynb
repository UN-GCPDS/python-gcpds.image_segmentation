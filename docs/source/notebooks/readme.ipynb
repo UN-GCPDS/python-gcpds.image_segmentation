
{
 "cells": [
   {
   "cell_type": "markdown",
   "id": "0",
   "metadata": {},
   "source": [
    "# gcpds.image_segmentation"
   ]
  }
 ],
 "metadata": {},
 "nbformat": 4,
 "nbformat_minor": 5
}

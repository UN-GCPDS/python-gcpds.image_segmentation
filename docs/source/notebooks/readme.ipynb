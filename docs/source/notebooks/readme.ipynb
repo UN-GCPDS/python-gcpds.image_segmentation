{
   "cells": [
      {
         "attachments": {},
         "cell_type": "markdown",
         "id": "0",
         "metadata": {},
         "source": [
            "# GCPDS - Image Segmentation\n",
            "\n",
            "\n",
            "## Install \n",
            "```pip install -U git+https://github.com/UN-GCPDS/python-gcpds.image_segmentation.git```"
         ]
      }
   ],
   "metadata": {
      "kernelspec": {
         "display_name": ".env38",
         "language": "python",
         "name": "python3"
      },
      "language_info": {
         "name": "python",
         "version": "3.8.16 (default, Dec 22 2022, 00:17:41) \n[GCC 12.2.0]"
      },
      "vscode": {
         "interpreter": {
            "hash": "f5258ec9e08d392db8517dc5e992bf670b8cc5223bfe32c212bd2a739b70a365"
         }
      }
   },
   "nbformat": 4,
   "nbformat_minor": 5
}

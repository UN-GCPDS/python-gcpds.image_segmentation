{
 "cells": [
  {
   "attachments": {},
   "cell_type": "markdown",
   "metadata": {},
   "source": [
    "# Datasets"
   ]
  }
 ],
 "metadata": {
  "kernelspec": {
   "display_name": ".env38",
   "language": "python",
   "name": "python3"
  },
  "language_info": {
   "name": "python",
   "version": "3.8.16 (default, Dec 22 2022, 00:17:41) \n[GCC 12.2.0]"
  },
  "orig_nbformat": 4,
  "vscode": {
   "interpreter": {
    "hash": "f5258ec9e08d392db8517dc5e992bf670b8cc5223bfe32c212bd2a739b70a365"
   }
  }
 },
 "nbformat": 4,
 "nbformat_minor": 2
}

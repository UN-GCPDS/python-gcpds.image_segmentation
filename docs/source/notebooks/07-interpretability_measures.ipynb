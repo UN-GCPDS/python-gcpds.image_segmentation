{
  "cells": [
    {
      "cell_type": "markdown",
      "metadata": {
        "id": "Qt5tgtRs0156"
      },
      "source": [
        "# Measures for Interpretability of Class Activation Maps"
      ]
    },
    {
      "cell_type": "code",
      "execution_count": null,
      "metadata": {
        "id": "jpIvo-T303f3"
      },
      "outputs": [],
      "source": [
        "!pip install -U git+https://github.com/UN-GCPDS/python-gcpds.image_segmentation.git\n",
        "!pip install -U git+https://github.com/UN-GCPDS/tf-keras-vis.git"
      ]
    },
    {
      "cell_type": "code",
      "execution_count": 2,
      "metadata": {
        "id": "kq8S4cLS015-"
      },
      "outputs": [],
      "source": [
        "import tensorflow as tf\n",
        "\n",
        "from gcpds.image_segmentation.models import unet_baseline\n",
        "from gcpds.image_segmentation.datasets.segmentation import InfraredThermalFeet\n",
        "from gcpds.image_segmentation.losses import DiceCoefficient"
      ]
    },
    {
      "cell_type": "code",
      "execution_count": 3,
      "metadata": {
        "colab": {
          "base_uri": "https://localhost:8080/"
        },
        "id": "TJxWq3a_016A",
        "outputId": "f4882b38-e29d-4846-e3cf-ec5e33d4eff2"
      },
      "outputs": [
        {
          "name": "stderr",
          "output_type": "stream",
          "text": [
            "Downloading...\n",
            "From: https://drive.google.com/uc?id=1HZa4pVwlIXCrRIidflB158kmtYGW23Qe&confirm=t\n",
            "To: /usr/local/lib/python3.10/dist-packages/gcpds/image_segmentation/datasets/segmentation/Datasets/InfraredThermalFeet/InfraredThermalFeet.zip\n",
            "100%|██████████| 10.6M/10.6M [00:00<00:00, 29.6MB/s]\n"
          ]
        },
        {
          "name": "stdout",
          "output_type": "stream",
          "text": [
            " Number of images for Partition 1: 111\n",
            " Number of images for Partition 2: 9\n",
            " Number of images for Partition 3: 46\n"
          ]
        }
      ],
      "source": [
        "dataset = InfraredThermalFeet()\n",
        "train, *_ = dataset()\n",
        "\n",
        "train = train.map(lambda img,mask,id_img: (img,mask), \n",
        "                                    num_parallel_calls=tf.data.AUTOTUNE)\n",
        "\n",
        "shape = 256, 256\n",
        "train = train.map(lambda img,mask: (tf.image.resize(img,shape), tf.image.resize(mask,shape)), \n",
        "                                    num_parallel_calls=tf.data.AUTOTUNE)\n",
        "\n",
        "train = train.batch(32)"
      ]
    },
    {
      "cell_type": "code",
      "execution_count": 4,
      "metadata": {
        "colab": {
          "base_uri": "https://localhost:8080/"
        },
        "id": "H9RLqhzk016B",
        "outputId": "d30da8e5-6ba8-4482-8109-3f265e05661b"
      },
      "outputs": [
        {
          "name": "stdout",
          "output_type": "stream",
          "text": [
            "Epoch 1/100\n",
            "4/4 [==============================] - 37s 922ms/step - loss: -0.3639\n",
            "Epoch 2/100\n",
            "4/4 [==============================] - 1s 249ms/step - loss: -0.4256\n",
            "Epoch 3/100\n",
            "4/4 [==============================] - 1s 250ms/step - loss: -0.4558\n",
            "Epoch 4/100\n",
            "4/4 [==============================] - 1s 250ms/step - loss: -0.4803\n",
            "Epoch 5/100\n",
            "4/4 [==============================] - 1s 253ms/step - loss: -0.5014\n",
            "Epoch 6/100\n",
            "4/4 [==============================] - 1s 234ms/step - loss: -0.5198\n",
            "Epoch 7/100\n",
            "4/4 [==============================] - 1s 251ms/step - loss: -0.5345\n",
            "Epoch 8/100\n",
            "4/4 [==============================] - 2s 383ms/step - loss: -0.5525\n",
            "Epoch 9/100\n",
            "4/4 [==============================] - 2s 407ms/step - loss: -0.5659\n",
            "Epoch 10/100\n",
            "4/4 [==============================] - 2s 261ms/step - loss: -0.5776\n",
            "Epoch 11/100\n",
            "4/4 [==============================] - 1s 280ms/step - loss: -0.5887\n",
            "Epoch 12/100\n",
            "4/4 [==============================] - 1s 253ms/step - loss: -0.5981\n",
            "Epoch 13/100\n",
            "4/4 [==============================] - 1s 252ms/step - loss: -0.6084\n",
            "Epoch 14/100\n",
            "4/4 [==============================] - 1s 260ms/step - loss: -0.6149\n",
            "Epoch 15/100\n",
            "4/4 [==============================] - 1s 262ms/step - loss: -0.6263\n",
            "Epoch 16/100\n",
            "4/4 [==============================] - 1s 260ms/step - loss: -0.6350\n",
            "Epoch 17/100\n",
            "4/4 [==============================] - 1s 251ms/step - loss: -0.6461\n",
            "Epoch 18/100\n",
            "4/4 [==============================] - 1s 260ms/step - loss: -0.6567\n",
            "Epoch 19/100\n",
            "4/4 [==============================] - 2s 385ms/step - loss: -0.6644\n",
            "Epoch 20/100\n",
            "4/4 [==============================] - 2s 428ms/step - loss: -0.6732\n",
            "Epoch 21/100\n",
            "4/4 [==============================] - 1s 325ms/step - loss: -0.6824\n",
            "Epoch 22/100\n",
            "4/4 [==============================] - 2s 343ms/step - loss: -0.6910\n",
            "Epoch 23/100\n",
            "4/4 [==============================] - 1s 254ms/step - loss: -0.6994\n",
            "Epoch 24/100\n",
            "4/4 [==============================] - 1s 307ms/step - loss: -0.7077\n",
            "Epoch 25/100\n",
            "4/4 [==============================] - 3s 634ms/step - loss: -0.7151\n",
            "Epoch 26/100\n",
            "4/4 [==============================] - 2s 328ms/step - loss: -0.7235\n",
            "Epoch 27/100\n",
            "4/4 [==============================] - 2s 347ms/step - loss: -0.7312\n",
            "Epoch 28/100\n",
            "4/4 [==============================] - 2s 346ms/step - loss: -0.7390\n",
            "Epoch 29/100\n",
            "4/4 [==============================] - 1s 256ms/step - loss: -0.7468\n",
            "Epoch 30/100\n",
            "4/4 [==============================] - 1s 245ms/step - loss: -0.7537\n",
            "Epoch 31/100\n",
            "4/4 [==============================] - 1s 266ms/step - loss: -0.7609\n",
            "Epoch 32/100\n",
            "4/4 [==============================] - 2s 498ms/step - loss: -0.7683\n",
            "Epoch 33/100\n",
            "4/4 [==============================] - 2s 362ms/step - loss: -0.7738\n",
            "Epoch 34/100\n",
            "4/4 [==============================] - 1s 258ms/step - loss: -0.7801\n",
            "Epoch 35/100\n",
            "4/4 [==============================] - 1s 337ms/step - loss: -0.7877\n",
            "Epoch 36/100\n",
            "4/4 [==============================] - 1s 247ms/step - loss: -0.7949\n",
            "Epoch 37/100\n",
            "4/4 [==============================] - 1s 245ms/step - loss: -0.8018\n",
            "Epoch 38/100\n",
            "4/4 [==============================] - 2s 299ms/step - loss: -0.8080\n",
            "Epoch 39/100\n",
            "4/4 [==============================] - 2s 363ms/step - loss: -0.8145\n",
            "Epoch 40/100\n",
            "4/4 [==============================] - 2s 355ms/step - loss: -0.8194\n",
            "Epoch 41/100\n",
            "4/4 [==============================] - 1s 245ms/step - loss: -0.8248\n",
            "Epoch 42/100\n",
            "4/4 [==============================] - 1s 252ms/step - loss: -0.8309\n",
            "Epoch 43/100\n",
            "4/4 [==============================] - 1s 271ms/step - loss: -0.8361\n",
            "Epoch 44/100\n",
            "4/4 [==============================] - 1s 242ms/step - loss: -0.8425\n",
            "Epoch 45/100\n",
            "4/4 [==============================] - 1s 247ms/step - loss: -0.8475\n",
            "Epoch 46/100\n",
            "4/4 [==============================] - 1s 252ms/step - loss: -0.8531\n",
            "Epoch 47/100\n",
            "4/4 [==============================] - 1s 303ms/step - loss: -0.8574\n",
            "Epoch 48/100\n",
            "4/4 [==============================] - 1s 253ms/step - loss: -0.8625\n",
            "Epoch 49/100\n",
            "4/4 [==============================] - 1s 248ms/step - loss: -0.8672\n",
            "Epoch 50/100\n",
            "4/4 [==============================] - 1s 247ms/step - loss: -0.8707\n",
            "Epoch 51/100\n",
            "4/4 [==============================] - 1s 249ms/step - loss: -0.8760\n",
            "Epoch 52/100\n",
            "4/4 [==============================] - 1s 241ms/step - loss: -0.8799\n",
            "Epoch 53/100\n",
            "4/4 [==============================] - 2s 317ms/step - loss: -0.8842\n",
            "Epoch 54/100\n",
            "4/4 [==============================] - 1s 309ms/step - loss: -0.8878\n",
            "Epoch 55/100\n",
            "4/4 [==============================] - 2s 558ms/step - loss: -0.8911\n",
            "Epoch 56/100\n",
            "4/4 [==============================] - 2s 351ms/step - loss: -0.8950\n",
            "Epoch 57/100\n",
            "4/4 [==============================] - 1s 254ms/step - loss: -0.8981\n",
            "Epoch 58/100\n",
            "4/4 [==============================] - 1s 243ms/step - loss: -0.9008\n",
            "Epoch 59/100\n",
            "4/4 [==============================] - 1s 247ms/step - loss: -0.9032\n",
            "Epoch 60/100\n",
            "4/4 [==============================] - 1s 245ms/step - loss: -0.9065\n",
            "Epoch 61/100\n",
            "4/4 [==============================] - 1s 251ms/step - loss: -0.9093\n",
            "Epoch 62/100\n",
            "4/4 [==============================] - 1s 247ms/step - loss: -0.9124\n",
            "Epoch 63/100\n",
            "4/4 [==============================] - 1s 304ms/step - loss: -0.9142\n",
            "Epoch 64/100\n",
            "4/4 [==============================] - 2s 355ms/step - loss: -0.9181\n",
            "Epoch 65/100\n",
            "4/4 [==============================] - 1s 247ms/step - loss: -0.9194\n",
            "Epoch 66/100\n",
            "4/4 [==============================] - 1s 246ms/step - loss: -0.9221\n",
            "Epoch 67/100\n",
            "4/4 [==============================] - 1s 251ms/step - loss: -0.9247\n",
            "Epoch 68/100\n",
            "4/4 [==============================] - 1s 245ms/step - loss: -0.9268\n",
            "Epoch 69/100\n",
            "4/4 [==============================] - 1s 247ms/step - loss: -0.9281\n",
            "Epoch 70/100\n",
            "4/4 [==============================] - 1s 245ms/step - loss: -0.9307\n",
            "Epoch 71/100\n",
            "4/4 [==============================] - 1s 256ms/step - loss: -0.9332\n",
            "Epoch 72/100\n",
            "4/4 [==============================] - 1s 340ms/step - loss: -0.9343\n",
            "Epoch 73/100\n",
            "4/4 [==============================] - 2s 322ms/step - loss: -0.9361\n",
            "Epoch 74/100\n",
            "4/4 [==============================] - 1s 249ms/step - loss: -0.9380\n",
            "Epoch 75/100\n",
            "4/4 [==============================] - 1s 248ms/step - loss: -0.9402\n",
            "Epoch 76/100\n",
            "4/4 [==============================] - 1s 248ms/step - loss: -0.9421\n",
            "Epoch 77/100\n",
            "4/4 [==============================] - 1s 255ms/step - loss: -0.9438\n",
            "Epoch 78/100\n",
            "4/4 [==============================] - 1s 244ms/step - loss: -0.9457\n",
            "Epoch 79/100\n",
            "4/4 [==============================] - 1s 246ms/step - loss: -0.9467\n",
            "Epoch 80/100\n",
            "4/4 [==============================] - 1s 246ms/step - loss: -0.9482\n",
            "Epoch 81/100\n",
            "4/4 [==============================] - 1s 247ms/step - loss: -0.9497\n",
            "Epoch 82/100\n",
            "4/4 [==============================] - 2s 372ms/step - loss: -0.9513\n",
            "Epoch 83/100\n",
            "4/4 [==============================] - 1s 268ms/step - loss: -0.9524\n",
            "Epoch 84/100\n",
            "4/4 [==============================] - 1s 249ms/step - loss: -0.9530\n",
            "Epoch 85/100\n",
            "4/4 [==============================] - 1s 245ms/step - loss: -0.9539\n",
            "Epoch 86/100\n",
            "4/4 [==============================] - 1s 245ms/step - loss: -0.9534\n",
            "Epoch 87/100\n",
            "4/4 [==============================] - 1s 243ms/step - loss: -0.9543\n",
            "Epoch 88/100\n",
            "4/4 [==============================] - 1s 249ms/step - loss: -0.9560\n",
            "Epoch 89/100\n",
            "4/4 [==============================] - 1s 246ms/step - loss: -0.9566\n",
            "Epoch 90/100\n",
            "4/4 [==============================] - 1s 250ms/step - loss: -0.9577\n",
            "Epoch 91/100\n",
            "4/4 [==============================] - 1s 329ms/step - loss: -0.9586\n",
            "Epoch 92/100\n",
            "4/4 [==============================] - 1s 248ms/step - loss: -0.9594\n",
            "Epoch 93/100\n",
            "4/4 [==============================] - 1s 246ms/step - loss: -0.9608\n",
            "Epoch 94/100\n",
            "4/4 [==============================] - 1s 243ms/step - loss: -0.9616\n",
            "Epoch 95/100\n",
            "4/4 [==============================] - 1s 243ms/step - loss: -0.9622\n",
            "Epoch 96/100\n",
            "4/4 [==============================] - 1s 247ms/step - loss: -0.9631\n",
            "Epoch 97/100\n",
            "4/4 [==============================] - 1s 245ms/step - loss: -0.9638\n",
            "Epoch 98/100\n",
            "4/4 [==============================] - 1s 247ms/step - loss: -0.9647\n",
            "Epoch 99/100\n",
            "4/4 [==============================] - 1s 252ms/step - loss: -0.9651\n",
            "Epoch 100/100\n",
            "4/4 [==============================] - 2s 365ms/step - loss: -0.9653\n"
          ]
        },
        {
          "data": {
            "text/plain": [
              "<keras.callbacks.History at 0x7f66fc108f70>"
            ]
          },
          "execution_count": 4,
          "metadata": {},
          "output_type": "execute_result"
        }
      ],
      "source": [
        "model = unet_baseline(input_shape=(256,256,1),out_channels=3)\n",
        "\n",
        "model.compile(loss=DiceCoefficient(), optimizer=tf.keras.optimizers.Adam())\n",
        "model.fit(train, epochs=100)"
      ]
    },
    {
      "cell_type": "code",
      "execution_count": 11,
      "metadata": {
        "colab": {
          "base_uri": "https://localhost:8080/"
        },
        "id": "TNCkFBEi4kF3",
        "outputId": "bf9df002-66c2-4b82-f5f8-76691c89bf31"
      },
      "outputs": [
        {
          "data": {
            "text/plain": [
              "[2, 4, 7, 9, 12, 14, 17, 19, 22, 24, 28, 30, 34, 36, 40, 42, 46, 48, 50]"
            ]
          },
          "execution_count": 11,
          "metadata": {},
          "output_type": "execute_result"
        }
      ],
      "source": [
        "layer_indexes = [i for i,l in enumerate(model.layers) if 'Conv' in l.name]\n",
        "layer_indexes"
      ]
    },
    {
      "cell_type": "code",
      "execution_count": 8,
      "metadata": {
        "id": "XaE6yXxf31w0"
      },
      "outputs": [],
      "source": [
        "from tf_keras_vis.gradcam import Gradcam\n",
        "from tf_keras_vis.utils.model_modifiers import ReplaceToLinear\n",
        "import matplotlib.pyplot as plt\n",
        "\n",
        "from gcpds.image_segmentation.class_activation_maps import SegScore"
      ]
    },
    {
      "cell_type": "code",
      "execution_count": 9,
      "metadata": {
        "id": "7q1LPYwt4XZy"
      },
      "outputs": [],
      "source": [
        "gradcam = Gradcam(model,\n",
        "                   model_modifier=ReplaceToLinear(),\n",
        "                  clone=True)"
      ]
    },
    {
      "cell_type": "markdown",
      "metadata": {
        "id": "DXkokQDr016B"
      },
      "source": [
        "## CAM Dice\n",
        "\n",
        "$$D^{'}_r = \\mathbb{E}_{l}\\left\\{\\mathbb{E}_{n}\\Biggl\\{   2 \\frac{\\mathbf{1}^\\top \\left(\\tilde{\\mathbf{M}}^r_n \\odot \\mathbf{S}^r_{nl}\\right) \\mathbf{1}}{ \\mathbf{1}^\\top \\tilde{\\mathbf{M}}^r_n \\mathbf{1} + \\mathbf{1}^\\top \\mathbf{S}^r_{nl} \\mathbf{1}} :\\forall n\\in N\\Biggl\\}:\\forall l\\in L\\right\\}, \\quad D_{r}^{'}    \\in [0,1]$$"
      ]
    },
    {
      "cell_type": "code",
      "execution_count": 22,
      "metadata": {
        "id": "-Sac2f4x016C"
      },
      "outputs": [],
      "source": [
        "from gcpds.image_segmentation.class_activation_maps.measures.partials import cam_dice "
      ]
    },
    {
      "cell_type": "code",
      "execution_count": 39,
      "metadata": {
        "id": "VMm-1nHq3gVI"
      },
      "outputs": [],
      "source": [
        "total_layers = len(layer_indexes)\n",
        "total_samples = 111\n",
        "target_class = 1 #only for class 1\n",
        "\n",
        "cam_dice_values = np.zeros(shape=(total_layers, total_samples))\n",
        "\n",
        "for i,l in enumerate(layer_indexes):\n",
        "    for j, (img, mask) in enumerate(train.unbatch().batch(1)): \n",
        "        score = SegScore(mask,target_class=target_class)\n",
        "        cam = gradcam(score, \n",
        "              img,\n",
        "              penultimate_layer=l,\n",
        "              seek_penultimate_conv_layer=False)\n",
        "        cam = cam[..., None]\n",
        "        roi = tf.cast(mask == target_class, tf.float32)\n",
        "        cam_dice_values[i,j] = cam_dice(roi, cam)"
      ]
    },
    {
      "cell_type": "code",
      "execution_count": 40,
      "metadata": {
        "colab": {
          "base_uri": "https://localhost:8080/",
          "height": 165
        },
        "id": "XUh79WeK5-wY",
        "outputId": "b00dc8df-5bad-45c9-f358-10cd5b3201c5"
      },
      "outputs": [
        {
          "data": {
            "text/plain": [
              "<matplotlib.image.AxesImage at 0x7f667ed5b6a0>"
            ]
          },
          "execution_count": 40,
          "metadata": {},
          "output_type": "execute_result"
        },
        {
          "data": {
            "image/png": "[encoded data removed]",
            "text/plain": [
              "<Figure size 640x480 with 1 Axes>"
            ]
          },
          "metadata": {},
          "output_type": "display_data"
        }
      ],
      "source": [
        "plt.imshow(cam_dice_values)"
      ]
    },
    {
      "cell_type": "code",
      "execution_count": 42,
      "metadata": {
        "colab": {
          "base_uri": "https://localhost:8080/"
        },
        "id": "OedQjjKu8rX0",
        "outputId": "cc040b09-9cf1-43d1-8e41-f104f8360b4a"
      },
      "outputs": [
        {
          "data": {
            "text/plain": [
              "0.26159253942596367"
            ]
          },
          "execution_count": 42,
          "metadata": {},
          "output_type": "execute_result"
        }
      ],
      "source": [
        "cam_dice_value = cam_dice_values.mean(axis=1).mean()\n",
        "cam_dice_value"
      ]
    },
    {
      "cell_type": "markdown",
      "metadata": {
        "id": "R3EaixpZ016C"
      },
      "source": [
        "## CAM-based Cumulative Relevance\n",
        "\n",
        "$$ \\rho_r = \\mathbb{E}_{l}\\left\\{\\mathbb{E}_{n}\\Biggl\\{  \\frac{ \\mathbf{1}^\\top (\\tilde{\\mathbf{M}}^c_n \\odot \\mathbf{S}^c_{nl}) \\mathbf{1}}{\\mathbf{1}^\\top \\mathbf{S}^c_{nl} \\mathbf{1}} : \\forall n\\in N\\Biggl\\}\\forall l\\in L\\right\\} , \\quad \\rho_c\\in [0,1]$$"
      ]
    },
    {
      "cell_type": "code",
      "execution_count": 47,
      "metadata": {
        "id": "FRz_SdTM016D"
      },
      "outputs": [],
      "source": [
        "from gcpds.image_segmentation.class_activation_maps.measures.partials import cam_cumulative_relevance"
      ]
    },
    {
      "cell_type": "code",
      "execution_count": 48,
      "metadata": {
        "id": "xw9G1ipU9mo6"
      },
      "outputs": [],
      "source": [
        "total_layers = len(layer_indexes)\n",
        "total_samples = 111\n",
        "target_class = 1 #only for class 1\n",
        "\n",
        "cam_cumulative_values = np.zeros(shape=(total_layers, total_samples))\n",
        "\n",
        "for i,l in enumerate(layer_indexes):\n",
        "    for j, (img, mask) in enumerate(train.unbatch().batch(1)): \n",
        "        score = SegScore(mask,target_class=target_class)\n",
        "        cam = gradcam(score, \n",
        "              img,\n",
        "              penultimate_layer=l,\n",
        "              seek_penultimate_conv_layer=False)\n",
        "        cam = cam[..., None]\n",
        "        roi = tf.cast(mask == target_class, tf.float32)\n",
        "        cam_cumulative_values[i,j] = cam_cumulative_relevance(roi, cam)"
      ]
    },
    {
      "cell_type": "code",
      "execution_count": 49,
      "metadata": {
        "colab": {
          "base_uri": "https://localhost:8080/",
          "height": 165
        },
        "id": "fcHQg-SW-FrR",
        "outputId": "c962d44f-6aa6-43ea-ccbf-afd09eea1ed8"
      },
      "outputs": [
        {
          "data": {
            "text/plain": [
              "<matplotlib.image.AxesImage at 0x7f667e2bd4e0>"
            ]
          },
          "execution_count": 49,
          "metadata": {},
          "output_type": "execute_result"
        },
        {
          "data": {
            "image/png": "[encoded data removed]",
            "text/plain": [
              "<Figure size 640x480 with 1 Axes>"
            ]
          },
          "metadata": {},
          "output_type": "display_data"
        }
      ],
      "source": [
        "plt.imshow(cam_cumulative_values)"
      ]
    },
    {
      "cell_type": "code",
      "execution_count": 50,
      "metadata": {
        "colab": {
          "base_uri": "https://localhost:8080/"
        },
        "id": "wMG6LRNV_E86",
        "outputId": "b3302fde-108d-4cf3-928a-f8157ecb4209"
      },
      "outputs": [
        {
          "data": {
            "text/plain": [
              "0.5578747539461217"
            ]
          },
          "execution_count": 50,
          "metadata": {},
          "output_type": "execute_result"
        }
      ],
      "source": [
        "cam_cumulative_values = cam_cumulative_values.mean(axis=1).mean()\n",
        "cam_cumulative_values"
      ]
    },
    {
      "cell_type": "markdown",
      "metadata": {
        "id": "dqvjAEo7016D"
      },
      "source": [
        "## Mask-based Cumulative Relevance\n",
        "\n",
        "$$\\varrho^{'}_{rl} =  \\mathbb{E}_{n}\\Biggl\\{ \\frac{ \\mathbf{1}^\\top (\\tilde{\\mathbf{M}}^r_n \\odot \\mathbf{S}^r_{nl}) \\mathbf{1}}{\\mathbf{1}^\\top \\tilde{\\mathbf{M}}^r_n \\mathbf{1}} : \\forall n\\in N\\Biggl\\}, \\varrho_{rl}\\in\\mathbb{R}^+$$\n",
        "\n",
        "$$\\varrho_r = \\mathbb{E}_{l}\\left\\{ \\frac{{\\varrho^{'}}_{rl}}{{\\max\\limits_{c \\in \\{0,1\\}} \\varrho^{'}_{cl}}} \\forall l\\in L\\right\\}, \\quad \\varrho^{'}_r\\in [0,1]$$"
      ]
    },
    {
      "cell_type": "code",
      "execution_count": 51,
      "metadata": {
        "id": "1S58r68W016E"
      },
      "outputs": [],
      "source": [
        "from gcpds.image_segmentation.class_activation_maps.measures.partials import masked_cumulative_relevance"
      ]
    },
    {
      "cell_type": "code",
      "execution_count": 53,
      "metadata": {
        "id": "cjUAjqysBeIH"
      },
      "outputs": [],
      "source": [
        "total_layers = len(layer_indexes)\n",
        "total_samples = 111\n",
        "target_class = 1 #only for class 1\n",
        "\n",
        "masked_cumulative_values_class_one = np.zeros(shape=(total_layers, total_samples))\n",
        "\n",
        "for i,l in enumerate(layer_indexes):\n",
        "    for j, (img, mask) in enumerate(train.unbatch().batch(1)): \n",
        "        score = SegScore(mask,target_class=target_class)\n",
        "        cam = gradcam(score, \n",
        "              img,\n",
        "              penultimate_layer=l,\n",
        "              seek_penultimate_conv_layer=False)\n",
        "        cam = cam[..., None]\n",
        "        roi = tf.cast(mask == target_class, tf.float32)\n",
        "        masked_cumulative_values_class_one[i,j] = masked_cumulative_relevance(roi, cam)"
      ]
    },
    {
      "cell_type": "code",
      "execution_count": 57,
      "metadata": {
        "colab": {
          "base_uri": "https://localhost:8080/",
          "height": 165
        },
        "id": "h3nnlgztD9Yy",
        "outputId": "ca216d84-23be-49e5-c9ed-afd1e5d5da01"
      },
      "outputs": [
        {
          "data": {
            "text/plain": [
              "<matplotlib.image.AxesImage at 0x7f6667ed4550>"
            ]
          },
          "execution_count": 57,
          "metadata": {},
          "output_type": "execute_result"
        },
        {
          "data": {
            "image/png": "[encoded data removed]",
            "text/plain": [
              "<Figure size 640x480 with 1 Axes>"
            ]
          },
          "metadata": {},
          "output_type": "display_data"
        }
      ],
      "source": [
        "plt.imshow(masked_cumulative_values_class_one)"
      ]
    },
    {
      "cell_type": "code",
      "execution_count": 56,
      "metadata": {
        "id": "KNB-X3pACRS_"
      },
      "outputs": [],
      "source": [
        "target_class = 0 #only for class 1\n",
        "\n",
        "masked_cumulative_values_class_zero = np.zeros(shape=(total_layers, total_samples))\n",
        "\n",
        "for i,l in enumerate(layer_indexes):\n",
        "    for j, (img, mask) in enumerate(train.unbatch().batch(1)): \n",
        "        score = SegScore(mask,target_class=target_class)\n",
        "        cam = gradcam(score, \n",
        "              img,\n",
        "              penultimate_layer=l,\n",
        "              seek_penultimate_conv_layer=False)\n",
        "        cam = cam[..., None]\n",
        "        roi = tf.cast(mask == target_class, tf.float32)\n",
        "        masked_cumulative_values_class_zero[i,j] = masked_cumulative_relevance(roi, cam)"
      ]
    },
    {
      "cell_type": "code",
      "execution_count": 58,
      "metadata": {
        "colab": {
          "base_uri": "https://localhost:8080/",
          "height": 165
        },
        "id": "NGVfP5wdBvC-",
        "outputId": "3421b043-5cbe-4482-c1b8-4070fdbc5d04"
      },
      "outputs": [
        {
          "data": {
            "text/plain": [
              "<matplotlib.image.AxesImage at 0x7f6667dbfe20>"
            ]
          },
          "execution_count": 58,
          "metadata": {},
          "output_type": "execute_result"
        },
        {
          "data": {
            "image/png": "[encoded data removed]",
            "text/plain": [
              "<Figure size 640x480 with 1 Axes>"
            ]
          },
          "metadata": {},
          "output_type": "display_data"
        }
      ],
      "source": [
        "plt.imshow(masked_cumulative_values_class_zero)"
      ]
    },
    {
      "cell_type": "code",
      "execution_count": 65,
      "metadata": {
        "id": "0dwfaZ8aEFG2"
      },
      "outputs": [],
      "source": [
        "masked_cumulative_mean_samples_class_one = masked_cumulative_values_class_one.mean(axis=1, keepdims=True)\n",
        "masked_cumulative_mean_samples_class_zero = masked_cumulative_values_class_zero.mean(axis=1, keepdims=True)\n",
        "\n",
        "masked_cumulative_mean_samples = np.concatenate([masked_cumulative_mean_samples_class_one,\n",
        "                                                 masked_cumulative_mean_samples_class_zero],\n",
        "                                                axis=1)"
      ]
    },
    {
      "cell_type": "code",
      "execution_count": 66,
      "metadata": {
        "colab": {
          "base_uri": "https://localhost:8080/"
        },
        "id": "XtXv_JSyEtxu",
        "outputId": "5b307880-8498-441f-98e5-d61210f961f3"
      },
      "outputs": [
        {
          "data": {
            "text/plain": [
              "(19, 2)"
            ]
          },
          "execution_count": 66,
          "metadata": {},
          "output_type": "execute_result"
        }
      ],
      "source": [
        "masked_cumulative_mean_samples.shape"
      ]
    },
    {
      "cell_type": "code",
      "execution_count": 73,
      "metadata": {
        "id": "Fh7u0MHMEfAl"
      },
      "outputs": [],
      "source": [
        "masked_cumulative_class_one = masked_cumulative_mean_samples[:,0]/masked_cumulative_mean_samples.max(axis=1)\n",
        "masked_cumulative_class_zero = masked_cumulative_mean_samples[:,1]/masked_cumulative_mean_samples.max(axis=1)"
      ]
    },
    {
      "cell_type": "code",
      "execution_count": 75,
      "metadata": {
        "id": "UWuxDruTGVlk"
      },
      "outputs": [],
      "source": [
        "masked_cumulative_class_one = masked_cumulative_class_one.mean()\n",
        "masked_cumulative_class_zero = masked_cumulative_class_zero.mean()"
      ]
    },
    {
      "cell_type": "code",
      "execution_count": 76,
      "metadata": {
        "colab": {
          "base_uri": "https://localhost:8080/"
        },
        "id": "BrCcg9l5GSIf",
        "outputId": "ee810f23-15ba-4b7c-cec0-edb61dadfeb3"
      },
      "outputs": [
        {
          "data": {
            "text/plain": [
              "(0.8432377253855776, 0.5880907436847627)"
            ]
          },
          "execution_count": 76,
          "metadata": {},
          "output_type": "execute_result"
        }
      ],
      "source": [
        "masked_cumulative_class_one, masked_cumulative_class_zero"
      ]
    }
  ],
  "metadata": {
    "accelerator": "GPU",
    "colab": {
      "gpuType": "T4",
      "provenance": []
    },
    "kernelspec": {
      "display_name": "Python 3",
      "name": "python3"
    },
    "language_info": {
      "codemirror_mode": {
        "name": "ipython",
        "version": 3
      },
      "file_extension": ".py",
      "mimetype": "text/x-python",
      "name": "python",
      "nbconvert_exporter": "python",
      "pygments_lexer": "ipython3",
      "version": "3.8.16"
    },
    "orig_nbformat": 4,
    "vscode": {
      "interpreter": {
        "hash": "b7fde5fa176281be99cc21e0016246a690fae33c3e3e9bd405b8bad9d2cf7853"
      }
    }
  },
  "nbformat": 4,
  "nbformat_minor": 0
}
